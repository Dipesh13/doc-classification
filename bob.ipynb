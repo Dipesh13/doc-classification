{
 "cells": [
  {
   "cell_type": "code",
   "execution_count": 27,
   "metadata": {},
   "outputs": [],
   "source": [
    "import pickle\n",
    "import os\n",
    "import ipywidgets as widgets\n",
    "from sklearn.linear_model import LogisticRegression\n",
    "from sklearn.neural_network import MLPClassifier\n",
    "from sklearn.neighbors import KNeighborsClassifier\n",
    "from sklearn.svm import SVC\n",
    "from sklearn.tree import DecisionTreeClassifier\n",
    "from sklearn.ensemble import RandomForestClassifier,AdaBoostClassifier\n",
    "from sklearn.naive_bayes import GaussianNB\n",
    "import spacy\n",
    "from __future__ import unicode_literals"
   ]
  },
  {
   "cell_type": "markdown",
   "metadata": {},
   "source": [
    "classifier options =[\n",
    "    \"Logistic Regression\",\n",
    "    \"Nearest Neighbors\",\n",
    "    \"Linear SVM\",\n",
    "    \"RBF SVM\",\n",
    "    \"Decision Tree\",\n",
    "    \"Random Forest\",\n",
    "    \"Neural Net\",\n",
    "    \"AdaBoost\"\n",
    "    \"Naive Bayes\"]"
   ]
  },
  {
   "cell_type": "code",
   "execution_count": 28,
   "metadata": {},
   "outputs": [],
   "source": [
    "# data = widgets.Text()\n",
    "# data"
   ]
  },
  {
   "cell_type": "code",
   "execution_count": 29,
   "metadata": {},
   "outputs": [],
   "source": [
    "# inputText = widgets.Text()\n",
    "# def transform(sender):\n",
    "#     data.value = inputText.value\n",
    "\n",
    "# inputText.on_submit(transform)\n",
    "# inputText"
   ]
  },
  {
   "cell_type": "code",
   "execution_count": 30,
   "metadata": {},
   "outputs": [],
   "source": [
    "data = \"Age shall not wither him nor custom stale his infinite variety. Ruthless Ronnie was at it again, his 51st career hat-trick topped off with a superlative last knockings free-kick hit with a new technique. Alongside that there was the pace he should have lost five years ago, an efficacy of action that bordered on the supreme and the spatial awareness of a quantity surveyor. The Portugal captain gave a display that was enough to jump-start the World Cup in and of itself. But the delight of this match was that his performance was only one of many intriguing subplots.Let’s dwell on the big man for a little longer, though. Thirty-three years old and off the back of another Champions League title, another 40-goal season, there remains not one sign of a weakening of his will to win. Perhaps, in fact, it is the opposite, as if the impediments that nature tries to put in his way have been transformed into just another opponent on the pitch, another obstacle to get round. On the evidence of this match Ronaldo appears even to be winning the battle with time. The pace he showed on the counterattack against Spain was terrifying. It may not be common to see him sprinting as much as this, given the way Real Madrid tend to dominate the ball, but there is no doubt he still has it in him. At the same time he has the cunning and mental wherewithal that only experience can bring. Even then they are tools that are available only when one is determined to use that experience to advantage. He knew Nacho was the uncommon link in this Spanish side and so, in the third minute, he ran at it. Pulling out the stepovers as if he was still a teenager, he duly drew a foul and stepped up to convert the penalty by sending David de Gea the wrong way. Ronaldo’s 27 first-half touches were judicious, every one; in the 16th minute a single backheeled flick on the halfway line sprang the entire Spain defence.With his second goal, just before half-time, you would not put it past him to have hit the shot straight at De Gea just to put the Spanish keeper under extra psychological pressure. The late, uproarious third was a free-kick. Rather than being struck through the laces in the way he trademarked (before being imitated by so many others) he whipped it round the Spanish wall. He also rolled up the right leg on his short shorts before striking it, another Ronaldo innovation.\""
   ]
  },
  {
   "cell_type": "code",
   "execution_count": 31,
   "metadata": {},
   "outputs": [],
   "source": [
    "nlp = spacy.load('en',tagger=False,parser=False,matcher=False)"
   ]
  },
  {
   "cell_type": "code",
   "execution_count": 32,
   "metadata": {},
   "outputs": [],
   "source": [
    "doc = nlp(data)"
   ]
  },
  {
   "cell_type": "code",
   "execution_count": 33,
   "metadata": {},
   "outputs": [],
   "source": [
    "model_name = \"Linear SVM\""
   ]
  },
  {
   "cell_type": "code",
   "execution_count": 34,
   "metadata": {},
   "outputs": [],
   "source": [
    "def model_pred(model_name,data):\n",
    "    \n",
    "    modelpath = os.path.join(os.getcwd(), 'models')\n",
    "    model = os.path.join(modelpath, model_name)\n",
    "    with open(model + '.pickle', 'rb') as fi:\n",
    "        model = pickle.load(fi)\n",
    "\n",
    "    label = model.predict(list(data))\n",
    "    print(label[0])"
   ]
  },
  {
   "cell_type": "code",
   "execution_count": 35,
   "metadata": {},
   "outputs": [
    {
     "name": "stdout",
     "output_type": "stream",
     "text": [
      "football\n"
     ]
    }
   ],
   "source": [
    "model_pred(model_name,data)"
   ]
  },
  {
   "cell_type": "code",
   "execution_count": 36,
   "metadata": {},
   "outputs": [
    {
     "name": "stdout",
     "output_type": "stream",
     "text": [
      "(u'PERSON', u'Ruthless Ronnie')\n",
      "(u'PERSON', u'David de Gea')\n"
     ]
    }
   ],
   "source": [
    "for ent in doc.ents:\n",
    "#     print(ent.label_ , ent.text)\n",
    "    if ent.label_ == \"PERSON\":\n",
    "        print(ent.label_ , ent.text)"
   ]
  },
  {
   "cell_type": "code",
   "execution_count": null,
   "metadata": {},
   "outputs": [],
   "source": []
  }
 ],
 "metadata": {
  "kernelspec": {
   "display_name": "Python 2",
   "language": "python",
   "name": "python2"
  },
  "language_info": {
   "codemirror_mode": {
    "name": "ipython",
    "version": 2
   },
   "file_extension": ".py",
   "mimetype": "text/x-python",
   "name": "python",
   "nbconvert_exporter": "python",
   "pygments_lexer": "ipython2",
   "version": "2.7.12"
  }
 },
 "nbformat": 4,
 "nbformat_minor": 2
}
