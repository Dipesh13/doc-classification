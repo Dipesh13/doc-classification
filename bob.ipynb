{
 "cells": [
  {
   "cell_type": "code",
   "execution_count": 52,
   "metadata": {},
   "outputs": [],
   "source": [
    "import pickle\n",
    "import os\n",
    "import ipywidgets as widgets\n",
    "from sklearn.linear_model import LogisticRegression\n",
    "from sklearn.neural_network import MLPClassifier\n",
    "from sklearn.neighbors import KNeighborsClassifier\n",
    "from sklearn.svm import SVC\n",
    "from sklearn.tree import DecisionTreeClassifier\n",
    "from sklearn.ensemble import RandomForestClassifier,AdaBoostClassifier\n",
    "from sklearn.naive_bayes import GaussianNB"
   ]
  },
  {
   "cell_type": "markdown",
   "metadata": {},
   "source": [
    "classifier options =[\n",
    "    \"Logistic Regression\",\n",
    "    \"Nearest Neighbors\",\n",
    "    \"Linear SVM\",\n",
    "    \"RBF SVM\",\n",
    "    \"Decision Tree\",\n",
    "    \"Random Forest\",\n",
    "    \"Neural Net\",\n",
    "    \"AdaBoost\"\n",
    "    \"Naive Bayes\"]"
   ]
  },
  {
   "cell_type": "code",
   "execution_count": 53,
   "metadata": {},
   "outputs": [],
   "source": [
    "# data = widgets.Text()\n",
    "# data"
   ]
  },
  {
   "cell_type": "code",
   "execution_count": 54,
   "metadata": {},
   "outputs": [],
   "source": [
    "# inputText = widgets.Text()\n",
    "# def transform(sender):\n",
    "#     data.value = inputText.value\n",
    "\n",
    "# inputText.on_submit(transform)\n",
    "# inputText"
   ]
  },
  {
   "cell_type": "code",
   "execution_count": 68,
   "metadata": {},
   "outputs": [],
   "source": [
    "data = \"An 89m midfielder in the making, a world-record transfer waiting to happen.Paul Pogba was already attracting the limelight before his 17th birthday, leaving his home country to join Manchester United from French outfit Le Havre.While the move may have taken his coaches by surprise, the 16-year-old's ambition and desire to succeed did not. Pogba knew he wanted to be a professional footballer from the very early days of kicking a ball around in the suburbs of Paris with his older twin brothers.But what sets a man who has won domestic and European titles and become an established France international apart from the dreamers who failed to make the grade? From joining Roissy-en-Brie as a six-year-old to signing a contract in England a decade later, BBC Sport explores the making of Pogba with those who knew him best.Pogba on winning, ping pong & deep-sea diving\""
   ]
  },
  {
   "cell_type": "code",
   "execution_count": 69,
   "metadata": {},
   "outputs": [],
   "source": [
    "model_name = \"Logistic Regression\""
   ]
  },
  {
   "cell_type": "code",
   "execution_count": 70,
   "metadata": {},
   "outputs": [],
   "source": [
    "def model_pred(model_name,data):\n",
    "    \n",
    "    modelpath = os.path.join(os.getcwd(), 'models')\n",
    "    model = os.path.join(modelpath, model_name)\n",
    "    with open(model + '.pickle', 'rb') as fi:\n",
    "        model = pickle.load(fi)\n",
    "\n",
    "    label = model.predict(list(data))\n",
    "    print(label[0])"
   ]
  },
  {
   "cell_type": "code",
   "execution_count": 71,
   "metadata": {},
   "outputs": [
    {
     "name": "stdout",
     "output_type": "stream",
     "text": [
      "football\n"
     ]
    }
   ],
   "source": [
    "model_pred(model_name,data)"
   ]
  }
 ],
 "metadata": {
  "kernelspec": {
   "display_name": "Python 2",
   "language": "python",
   "name": "python2"
  },
  "language_info": {
   "codemirror_mode": {
    "name": "ipython",
    "version": 2
   },
   "file_extension": ".py",
   "mimetype": "text/x-python",
   "name": "python",
   "nbconvert_exporter": "python",
   "pygments_lexer": "ipython2",
   "version": "2.7.12"
  }
 },
 "nbformat": 4,
 "nbformat_minor": 2
}
