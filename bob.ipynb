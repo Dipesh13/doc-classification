{
 "cells": [
  {
   "cell_type": "code",
   "execution_count": 34,
   "metadata": {},
   "outputs": [],
   "source": [
    "import pickle\n",
    "import os\n",
    "import ipywidgets as widgets\n",
    "from sklearn.linear_model import LogisticRegression\n",
    "from sklearn.neural_network import MLPClassifier\n",
    "from sklearn.neighbors import KNeighborsClassifier\n",
    "from sklearn.svm import SVC\n",
    "from sklearn.tree import DecisionTreeClassifier\n",
    "from sklearn.ensemble import RandomForestClassifier,AdaBoostClassifier\n",
    "from sklearn.naive_bayes import GaussianNB\n",
    "import spacy\n",
    "from __future__ import unicode_literals"
   ]
  },
  {
   "cell_type": "markdown",
   "metadata": {},
   "source": [
    "classifier options =[\n",
    "    \"Logistic Regression\",\n",
    "    \"Nearest Neighbors\",\n",
    "    \"Linear SVM\",\n",
    "    \"RBF SVM\",\n",
    "    \"Decision Tree\",\n",
    "    \"Random Forest\",\n",
    "    \"Neural Net\",\n",
    "    \"AdaBoost\"\n",
    "    \"Naive Bayes\"]"
   ]
  },
  {
   "cell_type": "code",
   "execution_count": 44,
   "metadata": {},
   "outputs": [],
   "source": [
    "# data = widgets.Text()\n",
    "# data"
   ]
  },
  {
   "cell_type": "code",
   "execution_count": 45,
   "metadata": {},
   "outputs": [],
   "source": [
    "# inputText = widgets.Text()\n",
    "# def transform(sender):\n",
    "#     data.value = inputText.value\n",
    "\n",
    "# inputText.on_submit(transform)\n",
    "# inputText"
   ]
  },
  {
   "cell_type": "code",
   "execution_count": 46,
   "metadata": {},
   "outputs": [],
   "source": [
    "data = \"French Open 2018 Venue: Roland Garros, Paris Dates: 27 May-10 June Coverage: Daily live radio and text commentaries on BBC Radio 5 live, the BBC Sport website and app.Rafael Nadal would love to surpass Roger Federers mens record of 20 Grand Slam titles but says he is not about catching his great rival.World number one Nadal won his 17th major by lifting his 11th French Open title on Sunday, beating seventh seed Dominic Thiem 6-4 6-3 6-2.Of course I have ambition. But I cant always be thinking of more, he said.Nadal, 32, is second behind Federer in the list of all-time Grand Slam titles, three clear of Pete Sampras in third.   Report: Nadal beats Dominic Thiem to win 11th title    Why does Nadal reign as King of Clay?    Quiz: How many multiple French Open champions can you name in two minutes?Veteran pair Nadal and Federer have won the past six Grand Slams as their younger rivals struggle to dislodge them at the pinnacle of the game.Federer, 36, skipped the clay-court season for the second successive year, but will return for the grass-court season which culminates at Wimbledon next month.You cant be frustrated if somebody has more money than you, if somebody has a bigger house than you, if somebody has more Grand Slams than you,said Nadal, who will be top seed at Wimbledon.Ive never been crazy about this kind of stuff. You cant live with that feeling. You have to do your way.Id love to have 20 like Roger in the future or more, but it is not something in my mind. I know Ive had an amazing career so I want to keep fighting for these things.Tough times make this win special\""
   ]
  },
  {
   "cell_type": "code",
   "execution_count": null,
   "metadata": {},
   "outputs": [],
   "source": [
    "nlp = spacy.load('en',tagger=False,parser=False,matcher=False)"
   ]
  },
  {
   "cell_type": "code",
   "execution_count": null,
   "metadata": {},
   "outputs": [],
   "source": [
    "doc = nlp(data)"
   ]
  },
  {
   "cell_type": "code",
   "execution_count": 50,
   "metadata": {},
   "outputs": [],
   "source": [
    "model_name = \"Linear SVM\""
   ]
  },
  {
   "cell_type": "code",
   "execution_count": 51,
   "metadata": {},
   "outputs": [],
   "source": [
    "def model_pred(model_name,data):\n",
    "    \n",
    "    modelpath = os.path.join(os.getcwd(), 'models')\n",
    "    model = os.path.join(modelpath, model_name)\n",
    "    with open(model + '.pickle', 'rb') as fi:\n",
    "        model = pickle.load(fi)\n",
    "\n",
    "    label = model.predict(list(data))\n",
    "    print(label[0])"
   ]
  },
  {
   "cell_type": "code",
   "execution_count": 52,
   "metadata": {},
   "outputs": [
    {
     "name": "stdout",
     "output_type": "stream",
     "text": [
      "football\n"
     ]
    }
   ],
   "source": [
    "model_pred(model_name,data)"
   ]
  },
  {
   "cell_type": "code",
   "execution_count": null,
   "metadata": {},
   "outputs": [],
   "source": [
    "for ent in doc.ents:\n",
    "    print(ent.label_ , ent.text)"
   ]
  }
 ],
 "metadata": {
  "kernelspec": {
   "display_name": "Python 2",
   "language": "python",
   "name": "python2"
  },
  "language_info": {
   "codemirror_mode": {
    "name": "ipython",
    "version": 2
   },
   "file_extension": ".py",
   "mimetype": "text/x-python",
   "name": "python",
   "nbconvert_exporter": "python",
   "pygments_lexer": "ipython2",
   "version": "2.7.12"
  }
 },
 "nbformat": 4,
 "nbformat_minor": 2
}
